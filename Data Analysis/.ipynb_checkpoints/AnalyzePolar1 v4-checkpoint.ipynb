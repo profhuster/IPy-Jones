{
 "cells": [
  {
   "cell_type": "markdown",
   "metadata": {},
   "source": [
    "### Analyzing Polarization Data v4\n",
    "Using the method in the paper "
   ]
  },
  {
   "cell_type": "code",
   "execution_count": 1,
   "metadata": {
    "collapsed": false
   },
   "outputs": [],
   "source": [
    "%matplotlib inline\n",
    "import numpy as np\n",
    "import matplotlib.pylab as plt\n",
    "import scipy.odr as odr\n",
    "np.set_printoptions(4)"
   ]
  },
  {
   "cell_type": "markdown",
   "metadata": {},
   "source": [
    "### Define the Functions for Analyzing Polarization Data"
   ]
  },
  {
   "cell_type": "code",
   "execution_count": 2,
   "metadata": {
    "collapsed": false
   },
   "outputs": [],
   "source": [
    "\n",
    "# Define the fitting function\n",
    "def I(k, t):\n",
    "    # fitting parameters\n",
    "    # k0 - DC level\n",
    "    # k1 - amplitude of the sin(2pi) component\n",
    "    # k2 - amplitude of sin(4pi) component\n",
    "    # k3 - amplitude of cos(4pi) component\n",
    "    # k4 - the period of the data\n",
    "    I = 0.5 * (k[0] + k[1] * np.sin(4 * np.pi * t / k[4]) + \\\n",
    "               k[2] * np.cos(8 * np.pi * t / k[4]) + \\\n",
    "               k[3] * np.sin(8 * np.pi * t / k[4]))\n",
    "    return I\n",
    "\n",
    "# function to analyze the data\n",
    "def polarizationAnalyze(fileName):\n",
    "    msgs = []\n",
    "\n",
    "    # get comments from file\n",
    "    fpData = open(fileName, 'r')\n",
    "    for line in fpData:\n",
    "        if line[0] == '#':\n",
    "            msgs.append(line.strip())\n",
    "    # get the data\n",
    "    data = np.loadtxt(fileName, delimiter=\",\")\n",
    "    msgs.append(\"There are %d data points in %s\" % (len(data), fileName))\n",
    "    \n",
    "    # Guess some starting values\n",
    "    dataAvg = np.average(data[:,1])\n",
    "    dataRange = max(data[:,1]) - min(data[:,1])\n",
    "    maxTime = max(data[:,0])\n",
    "    k = np.array((dataAvg,0.25*dataRange, 0.25*dataRange, 0.25*dataRange, maxTime))\n",
    "    msgs.append(\"Initial k =\\n\"+str(k))\n",
    "    \n",
    "    # Set up and do the fit\n",
    "    kGuess = k\n",
    "    fitModel = odr.Model(I) # declare the fitting function\n",
    "    fitData = odr.RealData(data[:,0], data[:,1], 0.005, 0.01 * dataRange)\n",
    "    myOdr = odr.ODR(fitData, fitModel, beta0=kGuess)\n",
    "    output = myOdr.run()\n",
    "    k = output.beta\n",
    "    kDel = output.sd_beta\n",
    "    \n",
    "    # Print results to strings\n",
    "    msgs.append(\"Fitted parameters = \\n\"+str(k))\n",
    "    msgs.append(\"Parameter Errors = \\n\"+str(kDel))\n",
    "    \n",
    "    # Compute polarization parameters\n",
    "    S = np.array((k[0] - k[2], 2 * k[2], 2 * k[3], k[1]))\n",
    "    (I0, Q, U, V) = S\n",
    "    SDel = np.array((np.sqrt(kDel[0]**2+kDel[3]**2), 2*kDel[2], 2*kDel[3], kDel[1]))\n",
    "    SNorm = S / S[0]\n",
    "    SNormDel = np.array((0, SNorm[1]*np.sqrt((SDel[1]/S[1])**2+(SDel[0]/S[0])**2), \\\n",
    "                        SNorm[2]*np.sqrt((SDel[2]/S[2])**2+(SDel[0]/S[0])**2), \\\n",
    "                        SNorm[3]*np.sqrt((SDel[3]/S[3])**2+(SDel[0]/S[0])**2)))\n",
    "\n",
    "    # Calculate parameters for the polarization ellipse\n",
    "    Ip = np.sqrt(sum(x**2 for x in SNorm[1:]))\n",
    "    LMag = np.sqrt(sum(x**2 for x in SNorm[1:3]))\n",
    "    IpDel = Ip * np.sqrt(sum(x**2 for x in SNormDel[1:]/SNorm[1:]))\n",
    "    LMagDel = LMag * np.sqrt(sum(x**2 for x in SNormDel[1:3]/SNorm[1:3]))\n",
    "    \n",
    "    # Ellipse parameters\n",
    "    A = np.sqrt(0.5 * (Ip + LMag))\n",
    "    B = np.sqrt(0.5 * (Ip - LMag))\n",
    "    theta = 0.5 * np.arctan2(U, Q)\n",
    "    thetaD = 180 * theta / np.pi\n",
    "    h = np.sign(V)\n",
    "    polarization = np.array([Ip, V, theta])\n",
    "    ellipse = np.array((A, B, theta, h))\n",
    "    msgs.append(\"S = \\n\" + str(S))\n",
    "    msgs.append(\"SNormalized = \\n\" + str(SNorm))\n",
    "    msgs.append(\"SNormalized Uncertainties = \\n\" + str(SNormDel))\n",
    "    msgs.append(\"Polarization parameters = \\n\" + str(polarization))\n",
    "    msgs.append(\"Ellipse paramters = \\n\" + str(ellipse))\n",
    "    \n",
    "    msgs.append(\"Done\")\n",
    "    return (data, k, kDel, SNorm, SNormDel, polarization, ellipse, msgs)"
   ]
  },
  {
   "cell_type": "code",
   "execution_count": 3,
   "metadata": {
    "collapsed": false
   },
   "outputs": [
    {
     "name": "stdout",
     "output_type": "stream",
     "text": [
      "MEH-PartLC.csv\n",
      "Enter file name:MEH-PartLC.csv\n",
      "fileName=  MEH-PartLC.csv\n"
     ]
    }
   ],
   "source": [
    "import glob\n",
    "names = []\n",
    "for name in glob.glob('*.csv'):\n",
    "    names.append(name.strip())\n",
    "names.sort()\n",
    "for name in names:\n",
    "    print name\n",
    "fileName = raw_input(\"Enter file name:\")\n",
    "baseName = fileName[:fileName.rfind('.')]\n",
    "print \"fileName= \", fileName"
   ]
  },
  {
   "cell_type": "markdown",
   "metadata": {},
   "source": [
    "### Read in the Data\n",
    "The first file is linearly polarized light passing through a cuvette of undiluted Karo syrup. The second file is an analysis of the laser light that should be very close to 100% linearly polarized."
   ]
  },
  {
   "cell_type": "code",
   "execution_count": 4,
   "metadata": {
    "collapsed": false
   },
   "outputs": [
    {
     "name": "stdout",
     "output_type": "stream",
     "text": [
      "># 1/2 polarised 22.5deg + RCP0.000, 0.645<\n",
      ">There are 999 data points in MEH-PartLC.csv<\n",
      ">Initial k =\n",
      "[ 0.5723  0.1037  0.1037  0.1037  6.283 ]<\n",
      ">Fitted parameters = \n",
      "[ 1.1445  0.289   0.1445  0.1445  6.28  ]<\n",
      ">Parameter Errors = \n",
      "[  1.9173e-05   2.6885e-05   3.1782e-05   3.3677e-05   6.2749e-05]<\n",
      ">S = \n",
      "[ 1.     0.289  0.289  0.289]<\n",
      ">SNormalized = \n",
      "[ 1.     0.289  0.289  0.289]<\n",
      ">SNormalized Uncertainties = \n",
      "[  0.0000e+00   6.4542e-05   6.8280e-05   2.9125e-05]<\n",
      ">Polarization parameters = \n",
      "[ 0.5006  0.289   0.3927]<\n",
      ">Ellipse paramters = \n",
      "[ 0.6743  0.2143  0.3927  1.    ]<\n",
      ">Done<\n"
     ]
    }
   ],
   "source": [
    "output = polarizationAnalyze(fileName)\n",
    "for msg in output[-1]:\n",
    "    print \">%s<\" % (msg)\n",
    "data = output[0]\n",
    "k = output[1]"
   ]
  },
  {
   "cell_type": "markdown",
   "metadata": {},
   "source": [
    "----\n",
    "### Plot the data, fit, and ellipse"
   ]
  },
  {
   "cell_type": "code",
   "execution_count": 5,
   "metadata": {
    "collapsed": false
   },
   "outputs": [
    {
     "data": {
      "image/png": "[encoded data removed]",
      "text/plain": [
       "<matplotlib.figure.Figure at 0x7f3bfc77e9d0>"
      ]
     },
     "metadata": {},
     "output_type": "display_data"
    }
   ],
   "source": [
    "plt.plot(data[:,0],data[:,1], '.')\n",
    "tFcn = np.linspace(min(data[:,0]), max(data[:,0]), 1000)\n",
    "plt.plot(tFcn, I(k, tFcn), 'b-')\n",
    "ax1 = plt.gca()\n",
    "yPlot = 1*min(data[:,1]) +0*max(data[:,1])\n",
    "xPlot = .1*max(data[:,0])\n",
    "np.set_printoptions(precision=3)\n",
    "ax1.axes.text(xPlot,yPlot,str(k))\n",
    "figName = \"%s-1.png\" % (baseName)\n",
    "plt.title(figName)\n",
    "plt.xlabel('Time (s)')\n",
    "plt.ylabel(\"Intensity (arb.)\")\n",
    "plt.savefig(figName)"
   ]
  },
  {
   "cell_type": "markdown",
   "metadata": {},
   "source": [
    "### Plot Ellipse"
   ]
  },
  {
   "cell_type": "code",
   "execution_count": 6,
   "metadata": {
    "collapsed": false
   },
   "outputs": [
    {
     "name": "stdout",
     "output_type": "stream",
     "text": [
      "(A, B, theta, h)= 0.674256927804 0.214312006946 0.392741670779 1.0\n"
     ]
    },
    {
     "data": {
      "image/png": "[encoded data removed]",
      "text/plain": [
       "<matplotlib.figure.Figure at 0x7f3be0ef3250>"
      ]
     },
     "metadata": {},
     "output_type": "display_data"
    }
   ],
   "source": [
    "# Make Ellipse Data\n",
    "(A, B, theta, h) = output[6]\n",
    "print \"(A, B, theta, h)=\", A, B, theta, h\n",
    "phi = np.linspace(0, 2 * np.pi, 1000)\n",
    "cosTh = np.cos(theta)\n",
    "sinTh = np.sin(theta)\n",
    "xPrime = A * np.cos(phi)\n",
    "yPrime = B * np.sin(phi)\n",
    "x = np.cos(theta) * xPrime - np.sin(theta) * yPrime\n",
    "y = np.sin(theta) * xPrime + np.cos(theta) * yPrime\n",
    "\n",
    "plt.plot(x, y, 'b-')\n",
    "plt.plot(np.cos(phi), np.sin(phi), 'r-')\n",
    "plt.xlim(-1.1,1.1)\n",
    "plt.ylim(-1.1,1.1)\n",
    "plt.axes().set_aspect('equal', 'datalim')\n",
    "plt.title(\"Polarization %s\\n%s\" % (baseName, output[7][0]))\n",
    "plt.xlabel(\"x\")\n",
    "plt.ylabel(\"y\")\n",
    "S = output[3]\n",
    "plt.text(1.1, -0.9, \"Stokes:\\n| 1.000|\\n|%6.3f|\\n|%6.3f|\\n|%6.3f|\" % \\\n",
    "        (S[1],S[2],S[3]))\n",
    "plt.text(1.05, 0.4, \"DegOfPol =\\n%6.3f\\nDegOfCP =\\n%6.3f\\nAngle =\\n%6.3f\" % \\\n",
    "        (np.sqrt(S[1]**2+S[2]**2+S[3]**2)/S[0], \\\n",
    "         abs(S[3]), 180*theta/np.pi))\n",
    "figName = \"%s-2.png\" % (baseName)\n",
    "plt.savefig(figName)"
   ]
  },
  {
   "cell_type": "code",
   "execution_count": 7,
   "metadata": {
    "collapsed": false
   },
   "outputs": [
    {
     "name": "stdout",
     "output_type": "stream",
     "text": [
      "# 1/2 polarised 22.5deg + RCP0.000, 0.645\n"
     ]
    }
   ],
   "source": [
    "print output[7][0]"
   ]
  },
  {
   "cell_type": "code",
   "execution_count": 8,
   "metadata": {
    "collapsed": false
   },
   "outputs": [
    {
     "name": "stdout",
     "output_type": "stream",
     "text": [
      "0.99992449715\n"
     ]
    }
   ],
   "source": [
    "print np.sqrt(.5**2+.5**2+.707**2)"
   ]
  },
  {
   "cell_type": "code",
   "execution_count": null,
   "metadata": {
    "collapsed": true
   },
   "outputs": [],
   "source": []
  }
 ],
 "metadata": {
  "kernelspec": {
   "display_name": "Python 2",
   "language": "python",
   "name": "python2"
  },
  "language_info": {
   "codemirror_mode": {
    "name": "ipython",
    "version": 2
   },
   "file_extension": ".py",
   "mimetype": "text/x-python",
   "name": "python",
   "nbconvert_exporter": "python",
   "pygments_lexer": "ipython2",
   "version": "2.7.10"
  }
 },
 "nbformat": 4,
 "nbformat_minor": 0
}
