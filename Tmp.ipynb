{
 "cells": [
  {
   "cell_type": "code",
   "execution_count": 2,
   "metadata": {
    "collapsed": false
   },
   "outputs": [],
   "source": [
    "from __future__ import division\n",
    "import numpy as np\n",
    "from IPython.display import display, Math, Latex\n",
    "from sympy import *\n",
    "def my_display(x):\n",
    "    display(Math(latex(x)))\n",
    "%matplotlib inline"
   ]
  },
  {
   "cell_type": "code",
   "execution_count": 18,
   "metadata": {
    "collapsed": false
   },
   "outputs": [
    {
     "data": {
      "text/latex": [
       "$$\\frac{1}{2} \\left(\\sin{\\left (\\epsilon \\right )} + 1\\right) \\sin^{2}{\\left (2 \\theta \\right )} - \\frac{1}{2} \\left(\\sin{\\left (\\epsilon \\right )} + 1\\right) \\cos^{2}{\\left (2 \\theta \\right )} + \\frac{1}{2} \\sin{\\left (\\epsilon \\right )} - \\frac{1}{2}$$"
      ],
      "text/plain": [
       "<IPython.core.display.Math object>"
      ]
     },
     "metadata": {},
     "output_type": "display_data"
    },
    {
     "name": "stdout",
     "output_type": "stream",
     "text": [
      "(sin(epsilon) + 1)*sin(2*theta)**2/2 - (sin(epsilon) + 1)*cos(2*theta)**2/2 + sin(epsilon)/2 - 1/2\n"
     ]
    },
    {
     "data": {
      "text/latex": [
       "$$\\left(- \\frac{1}{2} \\sin{\\left (\\epsilon \\right )} - \\frac{1}{2}\\right) \\cos{\\left (4 \\theta \\right )} + \\frac{1}{2} \\sin{\\left (\\epsilon \\right )} - \\frac{1}{2}$$"
      ],
      "text/plain": [
       "<IPython.core.display.Math object>"
      ]
     },
     "metadata": {},
     "output_type": "display_data"
    }
   ],
   "source": [
    "epsilon, theta = symbols(\"epsilon theta\", real=True)\n",
    "Fa = ((sin(epsilon) + 1)*sin(2*theta)**2/2 - \\\n",
    "      (sin(epsilon) + 1)*cos(2*theta)**2/2 + sin(epsilon)/2 - Rational(1,2))\n",
    "my_display(Fa)\n",
    "print Fa\n",
    "Fa1 = Fa.subs([(sin(2*theta)**2,Rational(1,2)-cos(4*theta)/2), \\\n",
    "              (cos(2*theta)**2, Rational(1,2)+cos(4*theta)/2)])\n",
    "Fa2 = collect(Fa1.expand(), [cos(4*theta)])\n",
    "my_display(Fa2)"
   ]
  },
  {
   "cell_type": "code",
   "execution_count": null,
   "metadata": {
    "collapsed": true
   },
   "outputs": [],
   "source": []
  }
 ],
 "metadata": {
  "kernelspec": {
   "display_name": "Python 2",
   "language": "python",
   "name": "python2"
  },
  "language_info": {
   "codemirror_mode": {
    "name": "ipython",
    "version": 2
   },
   "file_extension": ".py",
   "mimetype": "text/x-python",
   "name": "python",
   "nbconvert_exporter": "python",
   "pygments_lexer": "ipython2",
   "version": "2.7.10"
  }
 },
 "nbformat": 4,
 "nbformat_minor": 0
}
