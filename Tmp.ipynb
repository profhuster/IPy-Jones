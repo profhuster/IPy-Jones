{
 "cells": [
  {
   "cell_type": "code",
   "execution_count": 2,
   "metadata": {
    "collapsed": false
   },
   "outputs": [],
   "source": [
    "import numpy as np\n",
    "from IPython.display import display, Math, Latex\n",
    "from sympy import *\n",
    "def my_display(x):\n",
    "    display(Math(latex(x)))"
   ]
  },
  {
   "cell_type": "code",
   "execution_count": 4,
   "metadata": {
    "collapsed": false
   },
   "outputs": [],
   "source": [
    "class JVec(Matrix):\n",
    "    \"\"\"\n",
    "    Jones vectors for describing light with pure polarization\n",
    "\n",
    "    Jones vectors are 2 element complex column vectors describing the polarization\n",
    "    of light. The elements are [[Ex],[Ey]] where Ex and Ey are the complex\n",
    "    amplitudes of the electric field vector. The convention is that Ex is horizontal,\n",
    "    and Ey is vertical. \n",
    "    They are oftern normalized such that the incident light beam has\n",
    "    conj(Ex)*Ex + conj(Ey)Ey=1.\n",
    "\n",
    "    Attributes:\n",
    "        All Matrix attributes\n",
    "    \"\"\"\n",
    "    def __new__(cls, *args):\n",
    "        newobj = Matrix.__new__(cls, *args)\n",
    "        if newobj.shape != (2, 1):\n",
    "            raise TypeError(\"JVec: shape must be (2,1)\")\n",
    "        return newobj\n",
    "\n",
    "# define functions to return common polarizations\n",
    "def LHP():\n",
    "    return JVec([Rational(1),0])\n",
    "def LVP():\n",
    "    return JVec([0,Rational(1)])\n",
    "def LP(theta):\n",
    "    return JVec([cos(theta),sin(theta)])\n",
    "def RCP():\n",
    "    return JVec([cos(pi/4),I*cos(pi/4)])\n",
    "def LCP():\n",
    "    return JVec([cos(pi/4),-I*cos(pi/4)])\n",
    "\n",
    "class JMat(Matrix):\n",
    "    \"\"\"\n",
    "    Jones matrices describing optical elements that change light's E fields\n",
    "    \n",
    "    Jones matrices are 2x2 complex matrices that operate on a Jones vector,\n",
    "    a complex, two element column vector.\n",
    "\n",
    "    Attributes:\n",
    "        All Matrix attributes\n",
    "    \"\"\"\n",
    "    def __new__(cls, *args):\n",
    "        newobj = Matrix.__new__(cls, *args)\n",
    "        if newobj.shape != (2, 2):\n",
    "            raise TypeError(\"JMat: shape must be (2,2)\")\n",
    "        return newobj\n",
    "\n",
    "def JM_LHP():\n",
    "    return JMat([[1,0],[0,0]])\n",
    "def JM_LVP():\n",
    "    return JMat([[0,0],[0,1]])\n",
    "def JM_QWP():\n",
    "    return JMat([[1,0],[0,-I]])\n",
    "def JM_HWP():\n",
    "    return JMat([[1,0],[0,-1]])\n",
    "def JM_WP(phi):\n",
    "    return JMat([[exp(I*phi/2),0],[0,exp(-I*phi/2)]])\n",
    "def JM_ROT(theta):\n",
    "    return JMat([[cos(theta),sin(theta)],[-sin(theta),cos(theta)]])\n",
    "\n",
    "class JDensity(Matrix):\n",
    "    \"\"\"\n",
    "    A Jones density matrix is an extension of the Jones vectors\n",
    "    describing partially polarized light\n",
    "    \n",
    "    Jones density matrices are 2x2 complex matrices that operate on a Jones vector,\n",
    "    a complex, two element column vector.\n",
    "\n",
    "    Attributes:\n",
    "        All Matrix attributes\n",
    "    \"\"\"\n",
    "    def __new__(cls, *args):\n",
    "        newobj = Matrix.__new__(cls, *args)\n",
    "        if newobj.shape != (2, 2):\n",
    "            raise TypeError(\"JDensity: shape must be (2,2)\")\n",
    "        return newobj\n",
    "\n",
    "# Define some common polarization states\n",
    "def JD_LHP():\n",
    "    return JDensity(((Rational(1),0),(0,0)))"
   ]
  },
  {
   "cell_type": "code",
   "execution_count": 8,
   "metadata": {
    "collapsed": false
   },
   "outputs": [
    {
     "name": "stdout",
     "output_type": "stream",
     "text": [
      "⎡1  0⎤\n",
      "⎢    ⎥\n",
      "⎣0  0⎦\n"
     ]
    }
   ],
   "source": [
    "a = LHP()\n",
    "pprint(LHP() * LHP().H)"
   ]
  },
  {
   "cell_type": "code",
   "execution_count": null,
   "metadata": {
    "collapsed": true
   },
   "outputs": [],
   "source": []
  }
 ],
 "metadata": {
  "kernelspec": {
   "display_name": "Python 2",
   "language": "python",
   "name": "python2"
  },
  "language_info": {
   "codemirror_mode": {
    "name": "ipython",
    "version": 2
   },
   "file_extension": ".py",
   "mimetype": "text/x-python",
   "name": "python",
   "nbconvert_exporter": "python",
   "pygments_lexer": "ipython2",
   "version": "2.7.10"
  }
 },
 "nbformat": 4,
 "nbformat_minor": 0
}
