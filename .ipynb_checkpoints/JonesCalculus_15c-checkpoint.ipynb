{
 "cells": [
  {
   "cell_type": "markdown",
   "metadata": {},
   "source": [
    "### PolMeasJones\n",
    "#### ProfHuster 20151129\n",
    "#### Calculates the polarization state measurement technique from AJP\n",
    "----"
   ]
  },
  {
   "cell_type": "code",
   "execution_count": 15,
   "metadata": {
    "collapsed": false
   },
   "outputs": [],
   "source": [
    "import numpy as np\n",
    "from IPython.display import display, Math, Latex\n",
    "from sympy import *\n",
    "def my_display(x):\n",
    "    display(Math(latex(x)))\n",
    "%matplotlib inline"
   ]
  },
  {
   "cell_type": "markdown",
   "metadata": {},
   "source": [
    "### Define a classes for Jones Vectors, Matrices, and Density Matrices"
   ]
  },
  {
   "cell_type": "code",
   "execution_count": 2,
   "metadata": {
    "collapsed": false
   },
   "outputs": [],
   "source": [
    "class JVec(Matrix):\n",
    "    \"\"\"\n",
    "    Jones vectors for describing light with pure polarization\n",
    "\n",
    "    Jones vectors are 2 element complex column vectors describing the polarization\n",
    "    of light. The elements are [[Ex],[Ey]] where Ex and Ey are the complex\n",
    "    amplitudes of the electric field vector. The convention is that Ex is horizontal,\n",
    "    and Ey is vertical. \n",
    "    They are oftern normalized such that the incident light beam has\n",
    "    conj(Ex)*Ex + conj(Ey)Ey=1.\n",
    "\n",
    "    Attributes:\n",
    "        All Matrix attributes\n",
    "    \"\"\"\n",
    "    def __new__(cls, *args):\n",
    "        newobj = Matrix.__new__(cls, *args)\n",
    "        if newobj.shape != (2, 1):\n",
    "            raise TypeError(\"JVec: shape must be (2,1)\")\n",
    "        return newobj\n",
    "\n",
    "# define functions to return common polarizations\n",
    "def LHP():\n",
    "    return JVec([Rational(1),0])\n",
    "def LVP():\n",
    "    return JVec([0,Rational(1)])\n",
    "def LP(theta):\n",
    "    return JVec([cos(theta),sin(theta)])\n",
    "def RCP():\n",
    "    return JVec([cos(pi/4),I*cos(pi/4)])\n",
    "def LCP():\n",
    "    return JVec([cos(pi/4),-I*cos(pi/4)])\n",
    "\n",
    "class JMat(Matrix):\n",
    "    \"\"\"\n",
    "    Jones matrices describing optical elements that change light's E fields\n",
    "    \n",
    "    Jones matrices are 2x2 complex matrices that operate on a Jones vector,\n",
    "    a complex, two element column vector.\n",
    "\n",
    "    Attributes:\n",
    "        All Matrix attributes\n",
    "    \"\"\"\n",
    "    def __new__(cls, *args):\n",
    "        newobj = Matrix.__new__(cls, *args)\n",
    "        if newobj.shape != (2, 2):\n",
    "            raise TypeError(\"JMat: shape must be (2,2)\")\n",
    "        return newobj\n",
    "\n",
    "def JM_LHP():\n",
    "    return JMat([[1,0],[0,0]])\n",
    "def JM_LVP():\n",
    "    return JMat([[0,0],[0,1]])\n",
    "def JM_QWP():\n",
    "    return JMat([[1,0],[0,-I]])\n",
    "def JM_HWP():\n",
    "    return JMat([[1,0],[0,-1]])\n",
    "def JM_WP(phi):\n",
    "    return JMat([[exp(I*phi/2),0],[0,exp(-I*phi/2)]])\n",
    "def JM_ROT(theta):\n",
    "    return JMat([[cos(theta),sin(theta)],[-sin(theta),cos(theta)]])\n",
    "\n",
    "class JDensity(Matrix):\n",
    "    \"\"\"\n",
    "    A Jones density matrix is an extension of the Jones vectors\n",
    "    describing partially polarized light\n",
    "    \n",
    "    Jones density matrices are 2x2 complex matrices that operate on a Jones vector,\n",
    "    a complex, two element column vector.\n",
    "\n",
    "    Attributes:\n",
    "        All Matrix attributes\n",
    "    \"\"\"\n",
    "    def __new__(cls, *args):\n",
    "        newobj = Matrix.__new__(cls, *args)\n",
    "        if newobj.shape != (2, 2):\n",
    "            raise TypeError(\"JDensity: shape must be (2,2)\")\n",
    "        return newobj\n",
    "\n",
    "# Define some common polarization states\n",
    "def JD_LHP():\n",
    "    return JDensity(LHP() * LHP().H)\n",
    "def JD_LVP():\n",
    "    return JDensity(LVP() * LVP().H)\n",
    "def JD_RCP():\n",
    "    return JDensity(RCP() * RCP().H)\n",
    "def JD_LCP():\n",
    "    return JDensity(LCP() * LCP().H)\n",
    "def JD_LP(theta):\n",
    "    return JDensity(LP(theta) * LP(theta).H)"
   ]
  },
  {
   "cell_type": "code",
   "execution_count": 3,
   "metadata": {
    "collapsed": false
   },
   "outputs": [
    {
     "data": {
      "text/latex": [
       "$$\\left[\\begin{matrix}1 & 0\\\\0 & 0\\end{matrix}\\right]$$"
      ],
      "text/plain": [
       "<IPython.core.display.Math object>"
      ]
     },
     "metadata": {},
     "output_type": "display_data"
    },
    {
     "data": {
      "text/latex": [
       "$$\\left[\\begin{matrix}0 & 0\\\\0 & 1\\end{matrix}\\right]$$"
      ],
      "text/plain": [
       "<IPython.core.display.Math object>"
      ]
     },
     "metadata": {},
     "output_type": "display_data"
    },
    {
     "data": {
      "text/latex": [
       "$$\\left[\\begin{matrix}\\frac{1}{2} & - \\frac{i}{2}\\\\\\frac{i}{2} & \\frac{1}{2}\\end{matrix}\\right]$$"
      ],
      "text/plain": [
       "<IPython.core.display.Math object>"
      ]
     },
     "metadata": {},
     "output_type": "display_data"
    },
    {
     "data": {
      "text/latex": [
       "$$\\left[\\begin{matrix}\\frac{1}{2} & \\frac{i}{2}\\\\- \\frac{i}{2} & \\frac{1}{2}\\end{matrix}\\right]$$"
      ],
      "text/plain": [
       "<IPython.core.display.Math object>"
      ]
     },
     "metadata": {},
     "output_type": "display_data"
    },
    {
     "data": {
      "text/latex": [
       "$$\\left[\\begin{matrix}\\cos^{2}{\\left (\\theta \\right )} & \\sin{\\left (\\theta \\right )} \\cos{\\left (\\theta \\right )}\\\\\\sin{\\left (\\theta \\right )} \\cos{\\left (\\theta \\right )} & \\sin^{2}{\\left (\\theta \\right )}\\end{matrix}\\right]$$"
      ],
      "text/plain": [
       "<IPython.core.display.Math object>"
      ]
     },
     "metadata": {},
     "output_type": "display_data"
    }
   ],
   "source": [
    "my_display(JD_LHP())\n",
    "my_display(JD_LVP())\n",
    "my_display(JD_RCP())\n",
    "my_display(JD_LCP())\n",
    "theta = Symbol(\"theta\", real=True)\n",
    "my_display(JD_LP(theta))"
   ]
  },
  {
   "cell_type": "markdown",
   "metadata": {},
   "source": [
    "### Define the system for measuring polarization state\n",
    "The system is a rotating quarter wave plate followed by a linear polarizer.\n",
    "At least it _should_ be a quarter wave plate, but I will model a non-ideal quarter wave plate by giving it a retardance of $\\pi/2 + \\epsilon$."
   ]
  },
  {
   "cell_type": "code",
   "execution_count": 4,
   "metadata": {
    "collapsed": false
   },
   "outputs": [
    {
     "data": {
      "text/latex": [
       "$$\\left[\\begin{matrix}0 & 0\\\\e^{\\frac{i}{2} \\left(\\epsilon + \\frac{\\pi}{2}\\right)} \\sin{\\left (\\theta \\right )} \\cos{\\left (\\theta \\right )} - e^{- \\frac{i}{2} \\left(\\epsilon + \\frac{\\pi}{2}\\right)} \\sin{\\left (\\theta \\right )} \\cos{\\left (\\theta \\right )} & e^{\\frac{i}{2} \\left(\\epsilon + \\frac{\\pi}{2}\\right)} \\sin^{2}{\\left (\\theta \\right )} + e^{- \\frac{i}{2} \\left(\\epsilon + \\frac{\\pi}{2}\\right)} \\cos^{2}{\\left (\\theta \\right )}\\end{matrix}\\right]$$"
      ],
      "text/plain": [
       "<IPython.core.display.Math object>"
      ]
     },
     "metadata": {},
     "output_type": "display_data"
    },
    {
     "name": "stdout",
     "output_type": "stream",
     "text": [
      "Matrix([[0, 0], [exp(I*(epsilon + pi/2)/2)*sin(theta)*cos(theta) - exp(-I*(epsilon + pi/2)/2)*sin(theta)*cos(theta), exp(I*(epsilon + pi/2)/2)*sin(theta)**2 + exp(-I*(epsilon + pi/2)/2)*cos(theta)**2]])\n"
     ]
    }
   ],
   "source": [
    "epsilon = Symbol(\"epsilon\", real=True)\n",
    "WP = JM_WP(pi/2 + epsilon)\n",
    "theta = Symbol(\"theta\", real=True) # rotation angle of wave plate\n",
    "MSys = JM_LVP() * JM_ROT(-theta) * WP * JM_ROT(theta)\n",
    "my_display(MSys)\n",
    "print MSys"
   ]
  },
  {
   "cell_type": "markdown",
   "metadata": {},
   "source": [
    "Simplify by hand and re-enter the Matrix"
   ]
  },
  {
   "cell_type": "code",
   "execution_count": 5,
   "metadata": {
    "collapsed": false
   },
   "outputs": [
    {
     "data": {
      "text/latex": [
       "$$\\left[\\begin{matrix}0 & 0\\\\i \\sin{\\left (2 \\theta \\right )} \\sin{\\left (\\frac{\\epsilon}{2} + \\frac{\\pi}{4} \\right )} & \\frac{1}{2} \\left(- \\cos{\\left (2 \\theta \\right )} + 1\\right) e^{\\frac{i}{2} \\left(\\epsilon + \\frac{\\pi}{2}\\right)} + \\frac{1}{2} \\left(\\cos{\\left (2 \\theta \\right )} + 1\\right) e^{- \\frac{i}{2} \\left(\\epsilon + \\frac{\\pi}{2}\\right)}\\end{matrix}\\right]$$"
      ],
      "text/plain": [
       "<IPython.core.display.Math object>"
      ]
     },
     "metadata": {},
     "output_type": "display_data"
    },
    {
     "data": {
      "text/latex": [
       "$$\\left[\\begin{matrix}0 & 0\\\\i \\sin{\\left (2 \\theta \\right )} \\sin{\\left (\\frac{\\epsilon}{2} + \\frac{\\pi}{4} \\right )} & - i \\sin{\\left (\\frac{\\epsilon}{2} + \\frac{\\pi}{4} \\right )} \\cos{\\left (2 \\theta \\right )} + \\cos{\\left (\\frac{\\epsilon}{2} + \\frac{\\pi}{4} \\right )}\\end{matrix}\\right]$$"
      ],
      "text/plain": [
       "<IPython.core.display.Math object>"
      ]
     },
     "metadata": {},
     "output_type": "display_data"
    }
   ],
   "source": [
    "MSys1 = Matrix([[0, 0], \\\n",
    "                [exp(I*(epsilon + pi/2)/2)*sin(theta)*cos(theta) - \\\n",
    "                 exp(-I*(epsilon + pi/2)/2)*sin(theta)*cos(theta), \\\n",
    "                 exp(I*(epsilon + pi/2)/2)*sin(theta)**2 + \\\n",
    "                 exp(-I*(epsilon + pi/2)/2)*cos(theta)**2]])\n",
    "MSys1a = Matrix([[0, 0], \\\n",
    "                [2*I*sin((epsilon + pi/2)/2) * sin(2*theta)/2, \\\n",
    "                 exp( I*(epsilon + pi/2)/2)*(1-cos(2*theta))/2 + \\\n",
    "                 exp(-I*(epsilon + pi/2)/2)*(1+cos(2*theta))/2\n",
    "                 ]])\n",
    "MSys1b = Matrix([[0, 0], \\\n",
    "                [2*I*sin((epsilon + pi/2)/2) * sin(2*theta)/2, \\\n",
    "                 cos((epsilon + pi/2)/2) - I*sin((epsilon + pi/2)/2)*cos(2*theta) \\\n",
    "                 ]])\n",
    "my_display(MSys1a)\n",
    "my_display(MSys1b)"
   ]
  },
  {
   "cell_type": "markdown",
   "metadata": {},
   "source": [
    "### Jones vector calculations\n",
    "Now calculate the output using right circularly polarized input for Jones vectors"
   ]
  },
  {
   "cell_type": "code",
   "execution_count": 6,
   "metadata": {
    "collapsed": false
   },
   "outputs": [
    {
     "data": {
      "text/latex": [
       "$$- \\frac{1}{4} \\sin{\\left (\\epsilon - 2 \\theta \\right )} + \\frac{1}{4} \\sin{\\left (\\epsilon + 2 \\theta \\right )} + \\frac{1}{2}$$"
      ],
      "text/plain": [
       "<IPython.core.display.Math object>"
      ]
     },
     "metadata": {},
     "output_type": "display_data"
    }
   ],
   "source": [
    "JV_Out = MSys1b * RCP()\n",
    "I_Out = (JV_Out.H * JV_Out)[0]\n",
    "my_display(simplify(I_Out.expand()))"
   ]
  },
  {
   "cell_type": "markdown",
   "metadata": {},
   "source": [
    "Simplify for __RCP__"
   ]
  },
  {
   "cell_type": "code",
   "execution_count": 7,
   "metadata": {
    "collapsed": false
   },
   "outputs": [
    {
     "data": {
      "text/latex": [
       "$$\\frac{1}{2} \\sin{\\left (2 \\theta \\right )} \\cos{\\left (\\epsilon \\right )} + \\frac{1}{2}$$"
      ],
      "text/plain": [
       "<IPython.core.display.Math object>"
      ]
     },
     "metadata": {},
     "output_type": "display_data"
    }
   ],
   "source": [
    "I_RCP = Rational(1,2) + Rational(1,2)*sin(2*theta)*cos(epsilon)\n",
    "my_display(I_RCP)"
   ]
  },
  {
   "cell_type": "markdown",
   "metadata": {},
   "source": [
    "__LCP__ now"
   ]
  },
  {
   "cell_type": "code",
   "execution_count": 8,
   "metadata": {
    "collapsed": false
   },
   "outputs": [
    {
     "data": {
      "text/latex": [
       "$$\\frac{1}{4} \\sin{\\left (\\epsilon - 2 \\theta \\right )} - \\frac{1}{4} \\sin{\\left (\\epsilon + 2 \\theta \\right )} + \\frac{1}{2}$$"
      ],
      "text/plain": [
       "<IPython.core.display.Math object>"
      ]
     },
     "metadata": {},
     "output_type": "display_data"
    }
   ],
   "source": [
    "JV_Out = MSys1b * LCP()\n",
    "I_Out = (JV_Out.H * JV_Out)[0]\n",
    "my_display(simplify(I_Out.expand()))"
   ]
  },
  {
   "cell_type": "code",
   "execution_count": 9,
   "metadata": {
    "collapsed": false
   },
   "outputs": [
    {
     "data": {
      "text/latex": [
       "$$- \\frac{1}{2} \\sin{\\left (2 \\theta \\right )} \\cos{\\left (\\epsilon \\right )} + \\frac{1}{2}$$"
      ],
      "text/plain": [
       "<IPython.core.display.Math object>"
      ]
     },
     "metadata": {},
     "output_type": "display_data"
    }
   ],
   "source": [
    "I_LCP = Rational(1,2) - Rational(1,2)*sin(2*theta)*cos(epsilon)\n",
    "my_display(I_LCP)"
   ]
  },
  {
   "cell_type": "markdown",
   "metadata": {},
   "source": [
    "__LVP__ next"
   ]
  },
  {
   "cell_type": "code",
   "execution_count": 10,
   "metadata": {
    "collapsed": false
   },
   "outputs": [
    {
     "data": {
      "text/latex": [
       "$$\\frac{1}{2} \\left(\\sin{\\left (\\epsilon \\right )} + 1\\right) \\cos^{2}{\\left (2 \\theta \\right )} - \\frac{1}{2} \\sin{\\left (\\epsilon \\right )} + \\frac{1}{2}$$"
      ],
      "text/plain": [
       "<IPython.core.display.Math object>"
      ]
     },
     "metadata": {},
     "output_type": "display_data"
    },
    {
     "name": "stdout",
     "output_type": "stream",
     "text": [
      "(sin(epsilon) + 1)*cos(2*theta)**2/2 - sin(epsilon)/2 + 1/2\n"
     ]
    }
   ],
   "source": [
    "JV_Out = MSys1b * LVP()\n",
    "I_Out = (JV_Out.H * JV_Out)[0]\n",
    "my_display(simplify(I_Out.expand()))\n",
    "print simplify(I_Out.expand())"
   ]
  },
  {
   "cell_type": "code",
   "execution_count": 11,
   "metadata": {
    "collapsed": false
   },
   "outputs": [
    {
     "data": {
      "text/latex": [
       "$$\\frac{1}{4} \\sin{\\left (\\epsilon \\right )} \\cos{\\left (4 \\theta \\right )} - \\frac{1}{4} \\sin{\\left (\\epsilon \\right )} + \\frac{1}{4} \\cos{\\left (4 \\theta \\right )} + \\frac{3}{4}$$"
      ],
      "text/plain": [
       "<IPython.core.display.Math object>"
      ]
     },
     "metadata": {},
     "output_type": "display_data"
    }
   ],
   "source": [
    "I_LVP = ((sin(epsilon) + 1)/2) * (1+cos(4*theta))/2 - sin(epsilon)/2 + Rational(1,2)\n",
    "my_display(I_LVP.expand())"
   ]
  },
  {
   "cell_type": "markdown",
   "metadata": {},
   "source": [
    "Finally __LHP__"
   ]
  },
  {
   "cell_type": "code",
   "execution_count": 12,
   "metadata": {
    "collapsed": false,
    "scrolled": false
   },
   "outputs": [
    {
     "data": {
      "text/latex": [
       "$$\\frac{1}{2} \\left(\\sin{\\left (\\epsilon \\right )} + 1\\right) \\sin^{2}{\\left (2 \\theta \\right )}$$"
      ],
      "text/plain": [
       "<IPython.core.display.Math object>"
      ]
     },
     "metadata": {},
     "output_type": "display_data"
    },
    {
     "name": "stdout",
     "output_type": "stream",
     "text": [
      "(sin(epsilon) + 1)*sin(2*theta)**2/2\n"
     ]
    }
   ],
   "source": [
    "JV_Out = MSys1b * LHP()\n",
    "I_Out = (JV_Out.H * JV_Out)[0]\n",
    "my_display(simplify(I_Out.expand()))\n",
    "print simplify(I_Out.expand())"
   ]
  },
  {
   "cell_type": "code",
   "execution_count": 13,
   "metadata": {
    "collapsed": false
   },
   "outputs": [
    {
     "data": {
      "text/latex": [
       "$$- \\frac{1}{4} \\left(\\sin{\\left (\\epsilon \\right )} + 1\\right) \\left(\\cos{\\left (4 \\theta \\right )} - 1\\right)$$"
      ],
      "text/plain": [
       "<IPython.core.display.Math object>"
      ]
     },
     "metadata": {},
     "output_type": "display_data"
    }
   ],
   "source": [
    "I_LHP = (sin(epsilon) + 1)*((1 - cos(4*theta))/2)/2\n",
    "my_display(simplify(I_LHP))"
   ]
  },
  {
   "cell_type": "markdown",
   "metadata": {},
   "source": [
    "#### Plot the output intensities for these polarization states"
   ]
  },
  {
   "cell_type": "code",
   "execution_count": 16,
   "metadata": {
    "collapsed": false
   },
   "outputs": [
    {
     "data": {
      "text/latex": [
       "$$\\frac{1}{2} \\sin{\\left (2 \\theta \\right )} + \\frac{1}{2}$$"
      ],
      "text/plain": [
       "<IPython.core.display.Math object>"
      ]
     },
     "metadata": {},
     "output_type": "display_data"
    },
    {
     "data": {
      "image/png": "[encoded data removed]",
      "text/plain": [
       "<matplotlib.figure.Figure at 0x7fcc6ea76550>"
      ]
     },
     "metadata": {},
     "output_type": "display_data"
    }
   ],
   "source": [
    "from sympy.plotting import plot\n",
    "I_Plot1 = I_RCP.subs([(epsilon,0.0)])\n",
    "I_Plot2 = I_LCP.subs([(epsilon,0.0)])\n",
    "I_Plot3 = I_LVP.subs([(epsilon,0.0)])\n",
    "I_Plot4 = I_LHP.subs([(epsilon,0.0)])\n",
    "my_display(simplify(I_Plot1.expand()))\n",
    "p1 = plot(I_Plot1,(theta,0,6.28), line_color=(1,0,0), show=False, legend=True, \\\n",
    "          label=\"RCP\", \\\n",
    "    title=\"Output Different Polarization States\", \\\n",
    "    xlabel=\"Angle (rad)\", \\\n",
    "    ylabel=\"Intensity (arb)\")\n",
    "p2 = plot(I_Plot2,(theta,0,6.28), line_color=(0,1,0), label=\"LCP\", show=False)\n",
    "p1.extend(p2)\n",
    "p2 = plot(I_Plot3,(theta,0,6.28), line_color=(0,0,1), label=\"LVP\", show=False)\n",
    "p1.extend(p2)\n",
    "p2 = plot(I_Plot4,(theta,0,6.28), line_color=(0,1,1), label=\"LHP\", show=False)\n",
    "p1.extend(p2)\n",
    "p1.show()"
   ]
  },
  {
   "cell_type": "markdown",
   "metadata": {
    "collapsed": true
   },
   "source": [
    "### Calculations using Jones density matrices"
   ]
  },
  {
   "cell_type": "code",
   "execution_count": 17,
   "metadata": {
    "collapsed": false
   },
   "outputs": [
    {
     "data": {
      "text/latex": [
       "$$- \\frac{1}{4} \\sin{\\left (\\epsilon - 2 \\theta \\right )} + \\frac{1}{4} \\sin{\\left (\\epsilon + 2 \\theta \\right )} + \\frac{1}{2}$$"
      ],
      "text/plain": [
       "<IPython.core.display.Math object>"
      ]
     },
     "metadata": {},
     "output_type": "display_data"
    }
   ],
   "source": [
    "JV_Out = MSys1b * RCP()\n",
    "I_Out = (JV_Out.H * JV_Out)[0]\n",
    "my_display(simplify(I_Out.expand()))"
   ]
  },
  {
   "cell_type": "code",
   "execution_count": 18,
   "metadata": {
    "collapsed": false
   },
   "outputs": [
    {
     "data": {
      "text/latex": [
       "$$\\left[\\begin{matrix}\\frac{1}{2} & \\frac{i}{2}\\\\- \\frac{i}{2} & \\frac{1}{2}\\end{matrix}\\right]$$"
      ],
      "text/plain": [
       "<IPython.core.display.Math object>"
      ]
     },
     "metadata": {},
     "output_type": "display_data"
    },
    {
     "data": {
      "text/latex": [
       "$$\\frac{1}{4} \\sin{\\left (\\epsilon - 2 \\theta \\right )} - \\frac{1}{4} \\sin{\\left (\\epsilon + 2 \\theta \\right )} + \\frac{1}{2}$$"
      ],
      "text/plain": [
       "<IPython.core.display.Math object>"
      ]
     },
     "metadata": {},
     "output_type": "display_data"
    },
    {
     "data": {
      "text/latex": [
       "$$It\\ matches!!$$"
      ],
      "text/plain": [
       "<IPython.core.display.Math object>"
      ]
     },
     "metadata": {},
     "output_type": "display_data"
    }
   ],
   "source": [
    "lcp = JD_LCP()\n",
    "my_display(lcp)\n",
    "outLcp = lcp * MSys1b.H * MSys1b\n",
    "IOutLcp = outLcp.trace()\n",
    "a = simplify(IOutLcp.expand())\n",
    "my_display(a)\n",
    "my_display(\"It\\ matches!!\")"
   ]
  },
  {
   "cell_type": "markdown",
   "metadata": {},
   "source": [
    "#### Now calculate using partially polarized light\n",
    "This example is 1/4 left circularly polarized, 1/2 right circularly polarized, and 1/4 linearly polarized at 45deg."
   ]
  },
  {
   "cell_type": "code",
   "execution_count": 19,
   "metadata": {
    "collapsed": false
   },
   "outputs": [
    {
     "data": {
      "text/latex": [
       "$$\\left[\\begin{matrix}\\frac{1}{2} & \\frac{1}{8} - \\frac{i}{8}\\\\\\frac{1}{8} + \\frac{i}{8} & \\frac{1}{2}\\end{matrix}\\right]$$"
      ],
      "text/plain": [
       "<IPython.core.display.Math object>"
      ]
     },
     "metadata": {},
     "output_type": "display_data"
    },
    {
     "data": {
      "text/latex": [
       "$$- \\frac{1}{16} \\sin{\\left (4 \\theta \\right )} - \\frac{\\sqrt{2}}{16} \\sin{\\left (\\epsilon - 2 \\theta + \\frac{\\pi}{4} \\right )} + \\frac{\\sqrt{2}}{16} \\sin{\\left (\\epsilon + 2 \\theta + \\frac{\\pi}{4} \\right )} - \\frac{1}{32} \\cos{\\left (\\epsilon - 4 \\theta \\right )} + \\frac{1}{16} \\cos{\\left (\\epsilon - 2 \\theta \\right )} - \\frac{1}{16} \\cos{\\left (\\epsilon + 2 \\theta \\right )} + \\frac{1}{32} \\cos{\\left (\\epsilon + 4 \\theta \\right )} + \\frac{1}{2}$$"
      ],
      "text/plain": [
       "<IPython.core.display.Math object>"
      ]
     },
     "metadata": {},
     "output_type": "display_data"
    }
   ],
   "source": [
    "lightIn = Rational(1,4) * JD_LCP() + Rational(1,2) * JD_RCP() + Rational(1,4) * JD_LP(pi/4)\n",
    "my_display(lightIn)\n",
    "outPartLcp = lightIn * MSys1b.H * MSys1b\n",
    "IOutPart = outPartLcp.trace()\n",
    "a = simplify(IOutPart.expand())\n",
    "my_display(a)"
   ]
  },
  {
   "cell_type": "markdown",
   "metadata": {},
   "source": [
    "#### Now plot them"
   ]
  },
  {
   "cell_type": "code",
   "execution_count": 20,
   "metadata": {
    "collapsed": false
   },
   "outputs": [
    {
     "data": {
      "text/latex": [
       "$$- \\frac{1}{2} \\sin{\\left (2 \\theta \\right )} + \\frac{1}{2}$$"
      ],
      "text/plain": [
       "<IPython.core.display.Math object>"
      ]
     },
     "metadata": {},
     "output_type": "display_data"
    },
    {
     "data": {
      "image/png": "[encoded data removed]",
      "text/plain": [
       "<matplotlib.figure.Figure at 0x7fcc5f39ebd0>"
      ]
     },
     "metadata": {},
     "output_type": "display_data"
    }
   ],
   "source": [
    "I_Plot1 = IOutLcp.subs([(epsilon,0.0)])\n",
    "my_display(simplify(I_Plot1.expand()))\n",
    "p1 = plot(I_Plot1,(theta,0,6.28), line_color=(1,0,0), show=False, legend=False, \\\n",
    "          label=\"LCP\", \\\n",
    "    title=\"Output Different Polarization States\", \\\n",
    "    xlabel=\"Angle (rad)\", \\\n",
    "    ylabel=\"Intensity (arb)\")\n",
    "#\n",
    "I_Plot2 = IOutPart.subs([(epsilon,0.0)])\n",
    "p2 = plot(I_Plot2,(theta,0,6.28), line_color=(0,1,0), label=\"Partial LCP\", show=False)\n",
    "p1.extend(p2)\n",
    "p1.show()"
   ]
  },
  {
   "cell_type": "code",
   "execution_count": null,
   "metadata": {
    "collapsed": true
   },
   "outputs": [],
   "source": []
  }
 ],
 "metadata": {
  "kernelspec": {
   "display_name": "Python 2",
   "language": "python",
   "name": "python2"
  },
  "language_info": {
   "codemirror_mode": {
    "name": "ipython",
    "version": 2
   },
   "file_extension": ".py",
   "mimetype": "text/x-python",
   "name": "python",
   "nbconvert_exporter": "python",
   "pygments_lexer": "ipython2",
   "version": "2.7.10"
  }
 },
 "nbformat": 4,
 "nbformat_minor": 0
}
