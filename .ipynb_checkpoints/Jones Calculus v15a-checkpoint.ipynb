{
 "cells": [
  {
   "cell_type": "code",
   "execution_count": 1,
   "metadata": {
    "collapsed": true
   },
   "outputs": [],
   "source": [
    "import matplotlib as plt\n",
    "%matplotlib inline"
   ]
  },
  {
   "cell_type": "code",
   "execution_count": 56,
   "metadata": {
    "collapsed": false
   },
   "outputs": [],
   "source": [
    "class JVec(object):\n",
    "    \"\"\"JVec - a Jones vector describing polarization of light have the\n",
    "    following properties:\n",
    "\n",
    "    Attributes:\n",
    "        Ex, Ey: The complex amplitude of the electric field vector.\n",
    "    Methods:\n",
    "        mul, abs, T (transpose), conj (conjugate, H (conj-T)\n",
    "    \"\"\"\n",
    "    import numpy as npJ\n",
    "    def __init__(self, Ex=complex(1), Ey=complex(0)):\n",
    "        \"\"\" JVec(Ex,Ey) creates a column Jones vector. \"\"\"\n",
    "        self.Name = \"JVec\"\n",
    "        self.E = self.npJ.matrix(((Ex,),(Ey,)), dtype='complex')\n",
    "        \n",
    "    def __str__(self):\n",
    "        return \"%s\" % (str(self.E))\n",
    "\n",
    "    def __repr__(self):\n",
    "        return \"JVec(%s,%s)\" % \\\n",
    "          (str(self.E[0,0]), str(self.E[1,0]))\n",
    "    \n",
    "    def __mul__(self, other):\n",
    "        \"\"\"JVec.__mul__(self,other): The inner product of two Jones vectors.\n",
    "        \n",
    "        Note the left operand must be transposed. This function does *not* \n",
    "        do the transpose or conjugation for you. You often want a.H() * b.\"\"\"\n",
    "        \n",
    "        if type(other) != type(self):\n",
    "            raise TypeError(\"JVec.__mul__ both types must be a JVec\")\n",
    "        if self.E.shape != (1,2):\n",
    "            raise TypeError(\"JVec.__mul__ left muliplicand must be transposed (1,2)\")\n",
    "        if other.E.shape != (2,1):\n",
    "            raise TypeError(\"JVec.__mul__ right muliplicand must be (2,1)\")\n",
    "        return self.E[0,0] * other.E[0,0] + \\\n",
    "               self.E[0,1] * other.E[1,0]\n",
    "\n",
    "    def __abs__(self):\n",
    "        return (a.H() * a).real\n",
    "    \n",
    "    def T(self):\n",
    "        tmp = JVec()\n",
    "        tmp.E = self.npJ.copy(self.E.T)\n",
    "        return tmp\n",
    "    \n",
    "    def conj(self):\n",
    "        tmp = JVec()\n",
    "        tmp.E = self.npJ.copy(self.E.conj())\n",
    "        return tmp\n",
    "    \n",
    "    def H(self):\n",
    "        tmp = JVec()\n",
    "        tmp.E = self.npJ.copy(self.E.H)\n",
    "        return tmp\n",
    "\n",
    "class JMat(object):\n",
    "    \"\"\"JMat([m00,m01,m10,m11]) - Creates a Jones matrix.\n",
    "    \n",
    "    Jones matrices describe the operation of a device on polarized light.\n",
    "    It has the following properties:\n",
    "\n",
    "    Attributes:\n",
    "        M: The complex components of the matrix.\n",
    "    Methods:\n",
    "        __mul__\n",
    "    \"\"\"\n",
    "    import numpy as npJ\n",
    "    def __init__(self, M=[1,0,0,1]):\n",
    "        \"\"\"Return a JMat object 2x2 complex matrix.\"\"\"\n",
    "        self.Name = \"JMat\"\n",
    "        self.M = self.npJ.matrix(M, dtype='complex').reshape((2,2))\n",
    "        \n",
    "    def __str__(self):\n",
    "        return \"%s\" % (str(self.M))\n",
    "\n",
    "    def __repr__(self):\n",
    "        return \"%s((%s,%s,%s,%s))\" % \\\n",
    "          (self.Name, str(self.M[0,0]), str(self.M[0,1]), str(self.M[1,0]), str(self.M[1,1]))\n",
    "\n",
    "    def __mul__(self, other):\n",
    "        if type(other) == type(self):\n",
    "            MMul = self.M * other.M\n",
    "            return JMat((MMul[0,0],MMul[0,1],MMul[1,0],MMul[1,1]))\n",
    "        elif type(other) == type(JVec()):\n",
    "            MMul = self.M * other.E\n",
    "            print \"MMul=\", MMul\n",
    "            return JVec(MMul.A1[0],MMul.A1[1])\n",
    "        else:\n",
    "            raise TypeError(\"JMat.__mul__: both types must be a JMat\")"
   ]
  },
  {
   "cell_type": "code",
   "execution_count": 58,
   "metadata": {
    "collapsed": false
   },
   "outputs": [
    {
     "name": "stdout",
     "output_type": "stream",
     "text": [
      "MMul= [[ 0.+0.j   ]\n",
      " [ 0.+0.707j]]\n",
      "<class '__main__.JVec'> [[ 0.+0.j   ]\n",
      " [ 0.+0.707j]]\n"
     ]
    }
   ],
   "source": [
    "M1 = JMat([1,1j,-2j,3])\n",
    "v1 = JVec(.707,.707j)\n",
    "b = M1 * v1\n",
    "print type(b),b"
   ]
  },
  {
   "cell_type": "code",
   "execution_count": 60,
   "metadata": {
    "collapsed": false
   },
   "outputs": [
    {
     "name": "stdout",
     "output_type": "stream",
     "text": [
      "[[ 1.+0.j  0.+0.j]\n",
      " [ 0.+0.j  1.+0.j]]\n"
     ]
    }
   ],
   "source": [
    "a = M1.M\n",
    "b=a.I\n",
    "Mb = JMat(b.A1)\n",
    "print M1 * Mb"
   ]
  },
  {
   "cell_type": "code",
   "execution_count": null,
   "metadata": {
    "collapsed": false
   },
   "outputs": [],
   "source": [
    "a = JVec(1+1j,2-2j)\n",
    "print \"a =\\n\", a\n",
    "print \"a.E.shape = \", a.E.shape\n",
    "print \"repr(a) = \", repr(a)\n",
    "print \"abs(a) = \", abs(a)\n",
    "b = JVec((1+0j),(2+0j))\n",
    "print \"b=\",b\n",
    "print a.H()*b\n",
    "print \"abs(a)=\", abs(a)\n",
    "print \"====\"\n",
    "M1 = JMat((1,0,0,1))\n",
    "print \"M1.Name = \", M1.Name\n",
    "print \"M1 =\\n\", M1\n",
    "print \"repr(M1)=\\n\", repr(M1)\n",
    "M2 = JMat([[ 1.+0.j  0.+0.j  0.+0.j  1.+0.j]])\n",
    "print \"M2=\\n\", M2\n",
    "print \"M1*M2=\\n\", M1*M2"
   ]
  },
  {
   "cell_type": "code",
   "execution_count": null,
   "metadata": {
    "collapsed": false
   },
   "outputs": [],
   "source": [
    "import numpy as np\n",
    "a = np.matrix(((1,),(1j,)), dtype='complex')\n",
    "b = np.matrix('1 1;0 1')\n",
    "print \"type(a)=\", type(a)\n",
    "print \"a =\\n\", a\n",
    "print a.shape\n",
    "print a[1,0]\n",
    "print repr(a)\n",
    "b = np.transpose(a)\n",
    "print \"type(b)=\", type(b)\n",
    "print b.shape\n",
    "print np.conjugate(b)"
   ]
  },
  {
   "cell_type": "code",
   "execution_count": null,
   "metadata": {
    "collapsed": false
   },
   "outputs": [],
   "source": [
    "a=np.matrix([[1+1j,2-2j],[3+3j,4-4j]])\n",
    "print a\n",
    "print a[1]\n",
    "b= a.H\n",
    "a[0,0] = 0\n",
    "print a\n",
    "print b"
   ]
  },
  {
   "cell_type": "code",
   "execution_count": null,
   "metadata": {
    "collapsed": false
   },
   "outputs": [],
   "source": [
    "a=np.matrix([[1+1j,2-2j],[3+3j,4-4j]])\n",
    "print a\n",
    "a.resize((4,1))\n",
    "b=a\n",
    "c = a.reshape((1,4)).copy()\n",
    "print b\n",
    "print c\n",
    "a[0,0]=24\n",
    "print b\n",
    "print c\n",
    "print \"++++\"\n",
    "print \"type(a)=\", type(a)\n",
    "print \"type(a.H)=\", type(a.H)"
   ]
  },
  {
   "cell_type": "code",
   "execution_count": null,
   "metadata": {
    "collapsed": true
   },
   "outputs": [],
   "source": []
  }
 ],
 "metadata": {
  "kernelspec": {
   "display_name": "Python 2",
   "language": "python",
   "name": "python2"
  },
  "language_info": {
   "codemirror_mode": {
    "name": "ipython",
    "version": 2
   },
   "file_extension": ".py",
   "mimetype": "text/x-python",
   "name": "python",
   "nbconvert_exporter": "python",
   "pygments_lexer": "ipython2",
   "version": "2.7.10"
  }
 },
 "nbformat": 4,
 "nbformat_minor": 0
}
